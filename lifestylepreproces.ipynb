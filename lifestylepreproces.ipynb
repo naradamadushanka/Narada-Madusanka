{
 "cells": [
  {
   "cell_type": "code",
   "execution_count": null,
   "id": "18787e6b",
   "metadata": {},
   "outputs": [],
   "source": [
    "import numpy as np\n",
    "import matplotlib.pyplot as plt\n",
    "import pandas as pd\n",
    "data=pd.read_csv(r\"C:\\Users\\ASUS VIVOBOOK\\Downloads\\Sleep_health_and_lifestyle_dataset.csv\")\n",
    "data.head()\n",
    "data.info()"
   ]
  }
 ],
 "metadata": {
  "kernelspec": {
   "display_name": "base",
   "language": "python",
   "name": "python3"
  },
  "language_info": {
   "name": "python",
   "version": "3.13.5"
  }
 },
 "nbformat": 4,
 "nbformat_minor": 5
}
